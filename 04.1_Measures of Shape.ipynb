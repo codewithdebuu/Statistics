{
 "cells": [
  {
   "cell_type": "markdown",
   "id": "c21a7c9f-9a61-441e-96f5-5788dd509e41",
   "metadata": {},
   "source": [
    "# Measures of Shape\n",
    "How much your data is spreaded"
   ]
  },
  {
   "cell_type": "code",
   "execution_count": 4,
   "id": "5f2755e9-e02e-436d-bdc7-adede03461fd",
   "metadata": {},
   "outputs": [
    {
     "data": {
      "text/html": [
       "<div>\n",
       "<style scoped>\n",
       "    .dataframe tbody tr th:only-of-type {\n",
       "        vertical-align: middle;\n",
       "    }\n",
       "\n",
       "    .dataframe tbody tr th {\n",
       "        vertical-align: top;\n",
       "    }\n",
       "\n",
       "    .dataframe thead th {\n",
       "        text-align: right;\n",
       "    }\n",
       "</style>\n",
       "<table border=\"1\" class=\"dataframe\">\n",
       "  <thead>\n",
       "    <tr style=\"text-align: right;\">\n",
       "      <th></th>\n",
       "      <th>PassengerId</th>\n",
       "      <th>Survived</th>\n",
       "      <th>Pclass</th>\n",
       "      <th>Name</th>\n",
       "      <th>Sex</th>\n",
       "      <th>Age</th>\n",
       "      <th>SibSp</th>\n",
       "      <th>Parch</th>\n",
       "      <th>Ticket</th>\n",
       "      <th>Fare</th>\n",
       "      <th>Cabin</th>\n",
       "      <th>Embarked</th>\n",
       "    </tr>\n",
       "  </thead>\n",
       "  <tbody>\n",
       "    <tr>\n",
       "      <th>0</th>\n",
       "      <td>1</td>\n",
       "      <td>0</td>\n",
       "      <td>3</td>\n",
       "      <td>Braund, Mr. Owen Harris</td>\n",
       "      <td>male</td>\n",
       "      <td>22.0</td>\n",
       "      <td>1</td>\n",
       "      <td>0</td>\n",
       "      <td>A/5 21171</td>\n",
       "      <td>7.2500</td>\n",
       "      <td>NaN</td>\n",
       "      <td>S</td>\n",
       "    </tr>\n",
       "    <tr>\n",
       "      <th>1</th>\n",
       "      <td>2</td>\n",
       "      <td>1</td>\n",
       "      <td>1</td>\n",
       "      <td>Cumings, Mrs. John Bradley (Florence Briggs Th...</td>\n",
       "      <td>female</td>\n",
       "      <td>38.0</td>\n",
       "      <td>1</td>\n",
       "      <td>0</td>\n",
       "      <td>PC 17599</td>\n",
       "      <td>71.2833</td>\n",
       "      <td>C85</td>\n",
       "      <td>C</td>\n",
       "    </tr>\n",
       "    <tr>\n",
       "      <th>2</th>\n",
       "      <td>3</td>\n",
       "      <td>1</td>\n",
       "      <td>3</td>\n",
       "      <td>Heikkinen, Miss. Laina</td>\n",
       "      <td>female</td>\n",
       "      <td>26.0</td>\n",
       "      <td>0</td>\n",
       "      <td>0</td>\n",
       "      <td>STON/O2. 3101282</td>\n",
       "      <td>7.9250</td>\n",
       "      <td>NaN</td>\n",
       "      <td>S</td>\n",
       "    </tr>\n",
       "  </tbody>\n",
       "</table>\n",
       "</div>"
      ],
      "text/plain": [
       "   PassengerId  Survived  Pclass  \\\n",
       "0            1         0       3   \n",
       "1            2         1       1   \n",
       "2            3         1       3   \n",
       "\n",
       "                                                Name     Sex   Age  SibSp  \\\n",
       "0                            Braund, Mr. Owen Harris    male  22.0      1   \n",
       "1  Cumings, Mrs. John Bradley (Florence Briggs Th...  female  38.0      1   \n",
       "2                             Heikkinen, Miss. Laina  female  26.0      0   \n",
       "\n",
       "   Parch            Ticket     Fare Cabin Embarked  \n",
       "0      0         A/5 21171   7.2500   NaN        S  \n",
       "1      0          PC 17599  71.2833   C85        C  \n",
       "2      0  STON/O2. 3101282   7.9250   NaN        S  "
      ]
     },
     "execution_count": 4,
     "metadata": {},
     "output_type": "execute_result"
    }
   ],
   "source": [
    "import numpy as np \n",
    "import pandas as pd \n",
    "import matplotlib.pyplot as plt\n",
    "import seaborn as sns\n",
    "\n",
    "\n",
    "df = pd.read_csv(r\"H:\\Programming\\Files\\Statistics\\titanic.csv\")\n",
    "df.head(3)"
   ]
  },
  {
   "cell_type": "markdown",
   "id": "5eaf8fb2-f884-4b58-b3df-bb8978cc2ea5",
   "metadata": {},
   "source": [
    "# df.Skew()\n",
    "\n",
    "skew > 0 ==> Positive skew chart.\n",
    "\n",
    "skew < 0 ==> Negative skew chart.\n",
    "\n",
    "skew = 0 ==> Normal skew chart."
   ]
  },
  {
   "cell_type": "code",
   "execution_count": 6,
   "id": "d0eb416b-e18d-4c30-9fb0-6c7ce823d478",
   "metadata": {},
   "outputs": [
    {
     "data": {
      "text/plain": [
       "0.38910778230082704"
      ]
     },
     "execution_count": 6,
     "metadata": {},
     "output_type": "execute_result"
    }
   ],
   "source": [
    "df[\"Age\"].skew()  # Positive skew chart."
   ]
  },
  {
   "cell_type": "markdown",
   "id": "b2e2b824-befb-4c6c-be55-45d0468fdcfa",
   "metadata": {},
   "source": [
    "# Histplot"
   ]
  },
  {
   "cell_type": "code",
   "execution_count": 26,
   "id": "c567a8bb-f507-473d-ab1a-053ae6668d7f",
   "metadata": {},
   "outputs": [
    {
     "data": {
      "image/png": "[encoded data removed]",
      "text/plain": [
       "<Figure size 640x480 with 1 Axes>"
      ]
     },
     "metadata": {},
     "output_type": "display_data"
    }
   ],
   "source": [
    "sns.histplot(x=\"Age\", data=df,\n",
    "            bins=[i for i in range(0,90,10)])\n",
    "sns.set_style(\"darkgrid\")\n",
    "plt.show()"
   ]
  },
  {
   "cell_type": "markdown",
   "id": "076071c1-a3de-485e-8809-a59c0b9bbb12",
   "metadata": {},
   "source": [
    "# Mean, Median & Mode"
   ]
  },
  {
   "cell_type": "code",
   "execution_count": 28,
   "id": "a609ee4f-275f-453e-b7ab-65000b7ce435",
   "metadata": {},
   "outputs": [
    {
     "data": {
      "text/plain": [
       "(29.69911764705882, 28.0, 24.0)"
      ]
     },
     "execution_count": 28,
     "metadata": {},
     "output_type": "execute_result"
    }
   ],
   "source": [
    "df['Age'].mean(), df['Age'].median(), df['Age'].mode()[0]"
   ]
  },
  {
   "cell_type": "markdown",
   "id": "39b05c55-8b46-41a0-a857-b7fd12d67f4e",
   "metadata": {},
   "source": [
    "# Random"
   ]
  },
  {
   "cell_type": "code",
   "execution_count": 30,
   "id": "6a8dfd61-09b5-4eeb-802c-b79666ba4b15",
   "metadata": {},
   "outputs": [
    {
     "data": {
      "text/plain": [
       "array([ -60.80696753,  -26.49570047, -128.076285  ,  141.93325673,\n",
       "         51.37008589, -233.84405856,  182.40643134,  158.28346189,\n",
       "        145.61901418,  -64.48721652,   73.19381527, -114.33086493,\n",
       "         65.07156443,   -3.19266737, -113.21383525,  104.60229571,\n",
       "        -58.35474469,   17.54882367,   84.68483774, -135.85228002,\n",
       "         67.62923857,   33.16708348,  136.21076437,  -78.76618758,\n",
       "         98.61232621,  137.04045232,  -74.84351821,   37.17715484,\n",
       "          1.75838177,   -6.19837993, -141.64956572,   28.82602538,\n",
       "        -72.72439061,  196.02263668,  -28.28983985,  -73.69924318,\n",
       "        102.1939718 ,  -46.92809887,  -56.55459202,   90.9261911 ,\n",
       "        -52.17491918,  172.67243482,   24.16634609,  -27.16466935,\n",
       "         34.65581295, -249.61410578,   48.21225296,  -45.89314314,\n",
       "         20.70095878,  -31.99181005,   88.22450017,   -0.79194292,\n",
       "         24.94234802, -166.62078471,  -62.67697532,  119.1117106 ,\n",
       "         48.87878568,   44.87588637,  153.91494589,  -45.55733878,\n",
       "        -94.62497469,  -78.6474529 ,  133.20915953,  -87.76764123,\n",
       "         75.50002395,   65.12474563, -133.37597695,  187.32027347,\n",
       "         15.32533457,  -20.62891865,    9.67449211,  -26.71126788,\n",
       "         19.49402385,  140.36404616,   -3.47787822,  103.5131939 ,\n",
       "         51.32710563,   -8.18218606,  107.64528364, -134.46458634,\n",
       "         24.26638115, -162.74327607,   80.98073391,  -14.49682604,\n",
       "       -224.96310314,   15.93834458,  -49.09077634,  102.11027467,\n",
       "         73.28165908,   -8.36689672,  -44.77880532, -122.34414772,\n",
       "         -5.13075063,   63.7577839 ,   59.41433647,  109.06477963,\n",
       "        170.57592843,   61.42837153,  -24.63464524,  -96.98975884])"
      ]
     },
     "execution_count": 30,
     "metadata": {},
     "output_type": "execute_result"
    }
   ],
   "source": [
    "# Generate random data from normal distribution\n",
    "rnd_data = np.random.normal(0,100,100)\n",
    "rnd_data"
   ]
  },
  {
   "cell_type": "code",
   "execution_count": 32,
   "id": "10d4b5b0-355d-4b2f-a12f-2f890bb27eed",
   "metadata": {},
   "outputs": [
    {
     "data": {
      "text/html": [
       "<div>\n",
       "<style scoped>\n",
       "    .dataframe tbody tr th:only-of-type {\n",
       "        vertical-align: middle;\n",
       "    }\n",
       "\n",
       "    .dataframe tbody tr th {\n",
       "        vertical-align: top;\n",
       "    }\n",
       "\n",
       "    .dataframe thead th {\n",
       "        text-align: right;\n",
       "    }\n",
       "</style>\n",
       "<table border=\"1\" class=\"dataframe\">\n",
       "  <thead>\n",
       "    <tr style=\"text-align: right;\">\n",
       "      <th></th>\n",
       "      <th>n</th>\n",
       "    </tr>\n",
       "  </thead>\n",
       "  <tbody>\n",
       "    <tr>\n",
       "      <th>0</th>\n",
       "      <td>-60.806968</td>\n",
       "    </tr>\n",
       "    <tr>\n",
       "      <th>1</th>\n",
       "      <td>-26.495700</td>\n",
       "    </tr>\n",
       "    <tr>\n",
       "      <th>2</th>\n",
       "      <td>-128.076285</td>\n",
       "    </tr>\n",
       "    <tr>\n",
       "      <th>3</th>\n",
       "      <td>141.933257</td>\n",
       "    </tr>\n",
       "    <tr>\n",
       "      <th>4</th>\n",
       "      <td>51.370086</td>\n",
       "    </tr>\n",
       "  </tbody>\n",
       "</table>\n",
       "</div>"
      ],
      "text/plain": [
       "            n\n",
       "0  -60.806968\n",
       "1  -26.495700\n",
       "2 -128.076285\n",
       "3  141.933257\n",
       "4   51.370086"
      ]
     },
     "execution_count": 32,
     "metadata": {},
     "output_type": "execute_result"
    }
   ],
   "source": [
    "# Create DataFrame with the random data\n",
    "df2 = pd.DataFrame({\"n\": rnd_data})\n",
    "df2.head(5)"
   ]
  },
  {
   "cell_type": "code",
   "execution_count": 34,
   "id": "8142c388-dec1-47e9-9926-a0a1eea028ac",
   "metadata": {},
   "outputs": [
    {
     "data": {
      "text/plain": [
       "-0.2962853729622508"
      ]
     },
     "execution_count": 34,
     "metadata": {},
     "output_type": "execute_result"
    }
   ],
   "source": [
    "df2[\"n\"].skew() # Negaive skew chart"
   ]
  },
  {
   "cell_type": "code",
   "execution_count": 36,
   "id": "fb58ed9e-7ecb-4b6c-b5d0-c4629d57249a",
   "metadata": {},
   "outputs": [
    {
     "data": {
      "image/png": "[encoded data removed]",
      "text/plain": [
       "<Figure size 640x480 with 1 Axes>"
      ]
     },
     "metadata": {},
     "output_type": "display_data"
    }
   ],
   "source": [
    "sns.histplot(x=\"n\",data=df2,\n",
    "            bins=[i for i in range(-400,400,100)])\n",
    "plt.show()"
   ]
  },
  {
   "cell_type": "markdown",
   "id": "fe6a98d6-5903-458f-aeaa-4cda641c0b8f",
   "metadata": {},
   "source": [
    "# Mean, Median, Mode"
   ]
  },
  {
   "cell_type": "code",
   "execution_count": 39,
   "id": "5c2e7a98-532a-4e88-a1fa-de90ee161cda",
   "metadata": {},
   "outputs": [
    {
     "data": {
      "text/plain": [
       "(8.617360769359252, 15.63183957365229, -249.61410578179687)"
      ]
     },
     "execution_count": 39,
     "metadata": {},
     "output_type": "execute_result"
    }
   ],
   "source": [
    "df2['n'].mean(), df2['n'].median(), df2['n'].mode()[0]"
   ]
  },
  {
   "cell_type": "code",
   "execution_count": 41,
   "id": "312e34c5-e584-44fa-a332-860c378b7f8f",
   "metadata": {},
   "outputs": [
    {
     "data": {
      "text/html": [
       "<div>\n",
       "<style scoped>\n",
       "    .dataframe tbody tr th:only-of-type {\n",
       "        vertical-align: middle;\n",
       "    }\n",
       "\n",
       "    .dataframe tbody tr th {\n",
       "        vertical-align: top;\n",
       "    }\n",
       "\n",
       "    .dataframe thead th {\n",
       "        text-align: right;\n",
       "    }\n",
       "</style>\n",
       "<table border=\"1\" class=\"dataframe\">\n",
       "  <thead>\n",
       "    <tr style=\"text-align: right;\">\n",
       "      <th></th>\n",
       "      <th>z</th>\n",
       "    </tr>\n",
       "  </thead>\n",
       "  <tbody>\n",
       "    <tr>\n",
       "      <th>0</th>\n",
       "      <td>1</td>\n",
       "    </tr>\n",
       "    <tr>\n",
       "      <th>1</th>\n",
       "      <td>2</td>\n",
       "    </tr>\n",
       "    <tr>\n",
       "      <th>2</th>\n",
       "      <td>2</td>\n",
       "    </tr>\n",
       "    <tr>\n",
       "      <th>3</th>\n",
       "      <td>3</td>\n",
       "    </tr>\n",
       "    <tr>\n",
       "      <th>4</th>\n",
       "      <td>3</td>\n",
       "    </tr>\n",
       "  </tbody>\n",
       "</table>\n",
       "</div>"
      ],
      "text/plain": [
       "   z\n",
       "0  1\n",
       "1  2\n",
       "2  2\n",
       "3  3\n",
       "4  3"
      ]
     },
     "execution_count": 41,
     "metadata": {},
     "output_type": "execute_result"
    }
   ],
   "source": [
    "list_data = [1,2,2, 3,3,3,4,4,4,4,5,5,5,5,5,6,6,6,6,6,6,7,7,7,7,7,8,8,8,8,9,9,9,10,10,11] \n",
    "# Create DataFrame with the random data\n",
    "df3 = pd.DataFrame({\"z\": list_data})\n",
    "df3.head(5)"
   ]
  },
  {
   "cell_type": "code",
   "execution_count": 43,
   "id": "9cd8a406-090e-4997-bee5-0d6f8d01f90c",
   "metadata": {},
   "outputs": [
    {
     "data": {
      "text/plain": [
       "0.0"
      ]
     },
     "execution_count": 43,
     "metadata": {},
     "output_type": "execute_result"
    }
   ],
   "source": [
    "df3['z'].skew() # Normal skew chart"
   ]
  },
  {
   "cell_type": "code",
   "execution_count": 45,
   "id": "54340636-6cbd-4327-8d33-480a69520ea1",
   "metadata": {},
   "outputs": [
    {
     "data": {
      "image/png": "[encoded data removed]",
      "text/plain": [
       "<Figure size 640x480 with 1 Axes>"
      ]
     },
     "metadata": {},
     "output_type": "display_data"
    }
   ],
   "source": [
    "sns.histplot(x=\"z\",data=df3,\n",
    "            bins=[i for i in range(0,13,1)])\n",
    "\n",
    "plt.show()"
   ]
  },
  {
   "cell_type": "markdown",
   "id": "8f5276c4-2a5d-4a85-a22a-d882e783338e",
   "metadata": {},
   "source": [
    "# Mean, Median, Mode"
   ]
  },
  {
   "cell_type": "code",
   "execution_count": 48,
   "id": "b401542d-1b0c-45a1-b223-fc6c0dd3c8c0",
   "metadata": {},
   "outputs": [
    {
     "data": {
      "text/plain": [
       "(6.0,\n",
       " 6.0,\n",
       " 0    6\n",
       " Name: z, dtype: int64)"
      ]
     },
     "execution_count": 48,
     "metadata": {},
     "output_type": "execute_result"
    }
   ],
   "source": [
    "df3['z'].mean(), df3['z'].median(),  df3['z'].mode()"
   ]
  },
  {
   "cell_type": "code",
   "execution_count": null,
   "id": "50389db5-aa51-490e-b708-35cfe0f0558e",
   "metadata": {},
   "outputs": [],
   "source": []
  }
 ],
 "metadata": {
  "kernelspec": {
   "display_name": "Python [conda env:base] *",
   "language": "python",
   "name": "conda-base-py"
  },
  "language_info": {
   "codemirror_mode": {
    "name": "ipython",
    "version": 3
   },
   "file_extension": ".py",
   "mimetype": "text/x-python",
   "name": "python",
   "nbconvert_exporter": "python",
   "pygments_lexer": "ipython3",
   "version": "3.12.7"
  }
 },
 "nbformat": 4,
 "nbformat_minor": 5
}
