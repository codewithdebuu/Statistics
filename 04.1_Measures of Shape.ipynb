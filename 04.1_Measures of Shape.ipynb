{
 "cells": [
  {
   "cell_type": "markdown",
   "id": "c21a7c9f-9a61-441e-96f5-5788dd509e41",
   "metadata": {},
   "source": [
    "# Measures of Shape\n",
    "How much your data is spreaded"
   ]
  },
  {
   "cell_type": "code",
   "execution_count": 108,
   "id": "5f2755e9-e02e-436d-bdc7-adede03461fd",
   "metadata": {},
   "outputs": [
    {
     "data": {
      "text/html": [
       "<div>\n",
       "<style scoped>\n",
       "    .dataframe tbody tr th:only-of-type {\n",
       "        vertical-align: middle;\n",
       "    }\n",
       "\n",
       "    .dataframe tbody tr th {\n",
       "        vertical-align: top;\n",
       "    }\n",
       "\n",
       "    .dataframe thead th {\n",
       "        text-align: right;\n",
       "    }\n",
       "</style>\n",
       "<table border=\"1\" class=\"dataframe\">\n",
       "  <thead>\n",
       "    <tr style=\"text-align: right;\">\n",
       "      <th></th>\n",
       "      <th>PassengerId</th>\n",
       "      <th>Survived</th>\n",
       "      <th>Pclass</th>\n",
       "      <th>Name</th>\n",
       "      <th>Sex</th>\n",
       "      <th>Age</th>\n",
       "      <th>SibSp</th>\n",
       "      <th>Parch</th>\n",
       "      <th>Ticket</th>\n",
       "      <th>Fare</th>\n",
       "      <th>Cabin</th>\n",
       "      <th>Embarked</th>\n",
       "    </tr>\n",
       "  </thead>\n",
       "  <tbody>\n",
       "    <tr>\n",
       "      <th>0</th>\n",
       "      <td>1</td>\n",
       "      <td>0</td>\n",
       "      <td>3</td>\n",
       "      <td>Braund, Mr. Owen Harris</td>\n",
       "      <td>male</td>\n",
       "      <td>22.0</td>\n",
       "      <td>1</td>\n",
       "      <td>0</td>\n",
       "      <td>A/5 21171</td>\n",
       "      <td>7.2500</td>\n",
       "      <td>NaN</td>\n",
       "      <td>S</td>\n",
       "    </tr>\n",
       "    <tr>\n",
       "      <th>1</th>\n",
       "      <td>2</td>\n",
       "      <td>1</td>\n",
       "      <td>1</td>\n",
       "      <td>Cumings, Mrs. John Bradley (Florence Briggs Th...</td>\n",
       "      <td>female</td>\n",
       "      <td>38.0</td>\n",
       "      <td>1</td>\n",
       "      <td>0</td>\n",
       "      <td>PC 17599</td>\n",
       "      <td>71.2833</td>\n",
       "      <td>C85</td>\n",
       "      <td>C</td>\n",
       "    </tr>\n",
       "    <tr>\n",
       "      <th>2</th>\n",
       "      <td>3</td>\n",
       "      <td>1</td>\n",
       "      <td>3</td>\n",
       "      <td>Heikkinen, Miss. Laina</td>\n",
       "      <td>female</td>\n",
       "      <td>26.0</td>\n",
       "      <td>0</td>\n",
       "      <td>0</td>\n",
       "      <td>STON/O2. 3101282</td>\n",
       "      <td>7.9250</td>\n",
       "      <td>NaN</td>\n",
       "      <td>S</td>\n",
       "    </tr>\n",
       "  </tbody>\n",
       "</table>\n",
       "</div>"
      ],
      "text/plain": [
       "   PassengerId  Survived  Pclass  \\\n",
       "0            1         0       3   \n",
       "1            2         1       1   \n",
       "2            3         1       3   \n",
       "\n",
       "                                                Name     Sex   Age  SibSp  \\\n",
       "0                            Braund, Mr. Owen Harris    male  22.0      1   \n",
       "1  Cumings, Mrs. John Bradley (Florence Briggs Th...  female  38.0      1   \n",
       "2                             Heikkinen, Miss. Laina  female  26.0      0   \n",
       "\n",
       "   Parch            Ticket     Fare Cabin Embarked  \n",
       "0      0         A/5 21171   7.2500   NaN        S  \n",
       "1      0          PC 17599  71.2833   C85        C  \n",
       "2      0  STON/O2. 3101282   7.9250   NaN        S  "
      ]
     },
     "execution_count": 108,
     "metadata": {},
     "output_type": "execute_result"
    }
   ],
   "source": [
    "import numpy as np \n",
    "import pandas as pd \n",
    "import matplotlib.pyplot as plt\n",
    "import seaborn as sns\n",
    "\n",
    "\n",
    "df = pd.read_csv(r\"H:\\Programming\\Files\\Statistics\\titanic.csv\")\n",
    "df.head(3)"
   ]
  },
  {
   "cell_type": "markdown",
   "id": "5eaf8fb2-f884-4b58-b3df-bb8978cc2ea5",
   "metadata": {},
   "source": [
    "# df.Skew()\n",
    "\n",
    "skew > 0 ==> Positive skew chart.\n",
    "\n",
    "skew < 0 ==> Negative skew chart.\n",
    "\n",
    "skew = 0 ==> Normal skew chart."
   ]
  },
  {
   "cell_type": "code",
   "execution_count": 111,
   "id": "d0eb416b-e18d-4c30-9fb0-6c7ce823d478",
   "metadata": {},
   "outputs": [
    {
     "data": {
      "text/plain": [
       "0.38910778230082704"
      ]
     },
     "execution_count": 111,
     "metadata": {},
     "output_type": "execute_result"
    }
   ],
   "source": [
    "df[\"Age\"].skew()  # Positive skew chart."
   ]
  },
  {
   "cell_type": "markdown",
   "id": "b2e2b824-befb-4c6c-be55-45d0468fdcfa",
   "metadata": {},
   "source": [
    "# Histplot"
   ]
  },
  {
   "cell_type": "code",
   "execution_count": 144,
   "id": "c567a8bb-f507-473d-ab1a-053ae6668d7f",
   "metadata": {},
   "outputs": [
    {
     "data": {
      "image/png": "[encoded data removed]",
      "text/plain": [
       "<Figure size 640x480 with 1 Axes>"
      ]
     },
     "metadata": {},
     "output_type": "display_data"
    }
   ],
   "source": [
    "sns.histplot(x=\"Age\", data=df,\n",
    "            bins=[i for i in range(0,90,10)])\n",
    "sns.set_style(\"darkgrid\")\n",
    "plt.show()"
   ]
  },
  {
   "cell_type": "markdown",
   "id": "076071c1-a3de-485e-8809-a59c0b9bbb12",
   "metadata": {},
   "source": [
    "# Mean  & Median"
   ]
  },
  {
   "cell_type": "code",
   "execution_count": 191,
   "id": "a609ee4f-275f-453e-b7ab-65000b7ce435",
   "metadata": {},
   "outputs": [
    {
     "data": {
      "text/plain": [
       "(29.69911764705882, 28.0, -222.95052086853016)"
      ]
     },
     "execution_count": 191,
     "metadata": {},
     "output_type": "execute_result"
    }
   ],
   "source": [
    "df['Age'].mean(), df['Age'].median(), df2['n'].mode()[0]"
   ]
  },
  {
   "cell_type": "markdown",
   "id": "39b05c55-8b46-41a0-a857-b7fd12d67f4e",
   "metadata": {},
   "source": [
    "# Random"
   ]
  },
  {
   "cell_type": "code",
   "execution_count": 147,
   "id": "6a8dfd61-09b5-4eeb-802c-b79666ba4b15",
   "metadata": {},
   "outputs": [
    {
     "data": {
      "text/plain": [
       "array([  16.68520134,   54.37536391,  150.57657553,  106.97490485,\n",
       "         68.20534804,   -9.09633478,   85.29390919,   51.4783133 ,\n",
       "         -7.98562804,   35.10169711,  -21.60936511,   63.04974463,\n",
       "          9.45378759,   84.61190753,   66.56874409,  -50.15975382,\n",
       "       -110.37667256,  -25.4060415 , -162.63319077,  -79.65648859,\n",
       "         72.4098806 , -107.36329488,  -62.2729808 ,  -26.41861076,\n",
       "        -85.01605045,   26.07289593,  146.38343256,   30.61957245,\n",
       "       -116.60638558,  -19.10331902, -177.28856723,  -19.0276542 ,\n",
       "        -54.08914675,   -4.67356417,  -67.10712874,  152.89786636,\n",
       "        101.54343994,  -90.97522576,   63.62996704,  114.67035338,\n",
       "       -178.62483979,  -63.36709777,  108.22239119,  -57.26715743,\n",
       "       -150.32892241, -112.01525421,  -29.15640406,  -94.76541227,\n",
       "       -144.93877763,  -51.74470394,   32.57585151,   -4.97327526,\n",
       "         14.21544945,   60.02862788, -123.78013423, -128.88803243,\n",
       "       -180.64387205,   15.01822503, -112.94240802,  -37.02319556,\n",
       "         38.60824373,   36.34656523,  -53.00085126,  -38.23401637,\n",
       "        -78.1145114 ,  -92.14619927,    7.4576887 ,  -27.92936903,\n",
       "        -94.48906319,   60.44739778,   -8.35965262,  132.97914128,\n",
       "       -102.02083796,  -25.25481144,  145.64737883,  -14.47916145,\n",
       "       -222.95052087,  -37.99587852,  -99.73123594,  -19.47105917,\n",
       "        142.3880457 ,   52.64461643, -145.03930721, -135.68852321,\n",
       "       -143.83077198,  -95.80830875,   36.40161584,   15.23151312,\n",
       "        108.40613813,  114.41321865,    1.30781725,  143.62642834,\n",
       "         30.01639868, -119.38883995,   34.23125155,   52.16910637,\n",
       "        -29.09974351,  -17.8099809 ,   81.20620723,   41.54437092])"
      ]
     },
     "execution_count": 147,
     "metadata": {},
     "output_type": "execute_result"
    }
   ],
   "source": [
    "# Generate random data from normal distribution\n",
    "rnd_data = np.random.normal(0,100,100)\n",
    "rnd_data"
   ]
  },
  {
   "cell_type": "code",
   "execution_count": 149,
   "id": "10d4b5b0-355d-4b2f-a12f-2f890bb27eed",
   "metadata": {},
   "outputs": [
    {
     "data": {
      "text/html": [
       "<div>\n",
       "<style scoped>\n",
       "    .dataframe tbody tr th:only-of-type {\n",
       "        vertical-align: middle;\n",
       "    }\n",
       "\n",
       "    .dataframe tbody tr th {\n",
       "        vertical-align: top;\n",
       "    }\n",
       "\n",
       "    .dataframe thead th {\n",
       "        text-align: right;\n",
       "    }\n",
       "</style>\n",
       "<table border=\"1\" class=\"dataframe\">\n",
       "  <thead>\n",
       "    <tr style=\"text-align: right;\">\n",
       "      <th></th>\n",
       "      <th>n</th>\n",
       "    </tr>\n",
       "  </thead>\n",
       "  <tbody>\n",
       "    <tr>\n",
       "      <th>0</th>\n",
       "      <td>16.685201</td>\n",
       "    </tr>\n",
       "    <tr>\n",
       "      <th>1</th>\n",
       "      <td>54.375364</td>\n",
       "    </tr>\n",
       "    <tr>\n",
       "      <th>2</th>\n",
       "      <td>150.576576</td>\n",
       "    </tr>\n",
       "    <tr>\n",
       "      <th>3</th>\n",
       "      <td>106.974905</td>\n",
       "    </tr>\n",
       "    <tr>\n",
       "      <th>4</th>\n",
       "      <td>68.205348</td>\n",
       "    </tr>\n",
       "  </tbody>\n",
       "</table>\n",
       "</div>"
      ],
      "text/plain": [
       "            n\n",
       "0   16.685201\n",
       "1   54.375364\n",
       "2  150.576576\n",
       "3  106.974905\n",
       "4   68.205348"
      ]
     },
     "execution_count": 149,
     "metadata": {},
     "output_type": "execute_result"
    }
   ],
   "source": [
    "# Create DataFrame with the random data\n",
    "df2 = pd.DataFrame({\"n\": rnd_data})\n",
    "df2.head(5)"
   ]
  },
  {
   "cell_type": "code",
   "execution_count": 151,
   "id": "8142c388-dec1-47e9-9926-a0a1eea028ac",
   "metadata": {},
   "outputs": [
    {
     "data": {
      "text/plain": [
       "-0.055656797297113564"
      ]
     },
     "execution_count": 151,
     "metadata": {},
     "output_type": "execute_result"
    }
   ],
   "source": [
    "df2[\"n\"].skew() # Negaive skew chart"
   ]
  },
  {
   "cell_type": "code",
   "execution_count": 153,
   "id": "fb58ed9e-7ecb-4b6c-b5d0-c4629d57249a",
   "metadata": {},
   "outputs": [
    {
     "data": {
      "image/png": "[encoded data removed]",
      "text/plain": [
       "<Figure size 640x480 with 1 Axes>"
      ]
     },
     "metadata": {},
     "output_type": "display_data"
    }
   ],
   "source": [
    "sns.histplot(x=\"n\",data=df2,\n",
    "            bins=[i for i in range(-400,400,100)])\n",
    "plt.show()"
   ]
  },
  {
   "cell_type": "markdown",
   "id": "fe6a98d6-5903-458f-aeaa-4cda641c0b8f",
   "metadata": {},
   "source": [
    "# Mean & Median"
   ]
  },
  {
   "cell_type": "code",
   "execution_count": 189,
   "id": "5c2e7a98-532a-4e88-a1fa-de90ee161cda",
   "metadata": {},
   "outputs": [
    {
     "data": {
      "text/plain": [
       "(-13.624309403822028, -16.1445711767446, -222.95052086853016)"
      ]
     },
     "execution_count": 189,
     "metadata": {},
     "output_type": "execute_result"
    }
   ],
   "source": [
    "df2['n'].mean(), df2['n'].median(), df2['n'].mode()[0]"
   ]
  },
  {
   "cell_type": "code",
   "execution_count": null,
   "id": "c8982704-9c19-4f2f-a64f-72d9c5128027",
   "metadata": {},
   "outputs": [],
   "source": []
  },
  {
   "cell_type": "code",
   "execution_count": 156,
   "id": "312e34c5-e584-44fa-a332-860c378b7f8f",
   "metadata": {},
   "outputs": [
    {
     "data": {
      "text/html": [
       "<div>\n",
       "<style scoped>\n",
       "    .dataframe tbody tr th:only-of-type {\n",
       "        vertical-align: middle;\n",
       "    }\n",
       "\n",
       "    .dataframe tbody tr th {\n",
       "        vertical-align: top;\n",
       "    }\n",
       "\n",
       "    .dataframe thead th {\n",
       "        text-align: right;\n",
       "    }\n",
       "</style>\n",
       "<table border=\"1\" class=\"dataframe\">\n",
       "  <thead>\n",
       "    <tr style=\"text-align: right;\">\n",
       "      <th></th>\n",
       "      <th>z</th>\n",
       "    </tr>\n",
       "  </thead>\n",
       "  <tbody>\n",
       "    <tr>\n",
       "      <th>0</th>\n",
       "      <td>1</td>\n",
       "    </tr>\n",
       "    <tr>\n",
       "      <th>1</th>\n",
       "      <td>2</td>\n",
       "    </tr>\n",
       "    <tr>\n",
       "      <th>2</th>\n",
       "      <td>2</td>\n",
       "    </tr>\n",
       "    <tr>\n",
       "      <th>3</th>\n",
       "      <td>3</td>\n",
       "    </tr>\n",
       "    <tr>\n",
       "      <th>4</th>\n",
       "      <td>3</td>\n",
       "    </tr>\n",
       "  </tbody>\n",
       "</table>\n",
       "</div>"
      ],
      "text/plain": [
       "   z\n",
       "0  1\n",
       "1  2\n",
       "2  2\n",
       "3  3\n",
       "4  3"
      ]
     },
     "execution_count": 156,
     "metadata": {},
     "output_type": "execute_result"
    }
   ],
   "source": [
    "list_data = [1,2,2, 3,3,3,4,4,4,4,5,5,5,5,5,6,6,6,6,6,6,7,7,7,7,7,8,8,8,8,9,9,9,10,10,11] \n",
    "# Create DataFrame with the random data\n",
    "df3 = pd.DataFrame({\"z\": list_data})\n",
    "df3.head(5)"
   ]
  },
  {
   "cell_type": "code",
   "execution_count": 158,
   "id": "9cd8a406-090e-4997-bee5-0d6f8d01f90c",
   "metadata": {},
   "outputs": [
    {
     "data": {
      "text/plain": [
       "0.0"
      ]
     },
     "execution_count": 158,
     "metadata": {},
     "output_type": "execute_result"
    }
   ],
   "source": [
    "df3['z'].skew() # Normal skew chart"
   ]
  },
  {
   "cell_type": "code",
   "execution_count": 160,
   "id": "54340636-6cbd-4327-8d33-480a69520ea1",
   "metadata": {},
   "outputs": [
    {
     "data": {
      "image/png": "[encoded data removed]",
      "text/plain": [
       "<Figure size 640x480 with 1 Axes>"
      ]
     },
     "metadata": {},
     "output_type": "display_data"
    }
   ],
   "source": [
    "sns.histplot(x=\"z\",data=df3,\n",
    "            bins=[i for i in range(0,13,1)])\n",
    "\n",
    "plt.show()"
   ]
  },
  {
   "cell_type": "markdown",
   "id": "8f5276c4-2a5d-4a85-a22a-d882e783338e",
   "metadata": {},
   "source": [
    "# Mean, Median, Mode"
   ]
  },
  {
   "cell_type": "code",
   "execution_count": 169,
   "id": "b401542d-1b0c-45a1-b223-fc6c0dd3c8c0",
   "metadata": {},
   "outputs": [
    {
     "data": {
      "text/plain": [
       "(6.0,\n",
       " 6.0,\n",
       " 0    6\n",
       " Name: z, dtype: int64)"
      ]
     },
     "execution_count": 169,
     "metadata": {},
     "output_type": "execute_result"
    }
   ],
   "source": [
    "df3['z'].mean(), df3['z'].median(),  df3['z'].mode()"
   ]
  },
  {
   "cell_type": "code",
   "execution_count": null,
   "id": "50389db5-aa51-490e-b708-35cfe0f0558e",
   "metadata": {},
   "outputs": [],
   "source": []
  }
 ],
 "metadata": {
  "kernelspec": {
   "display_name": "Python [conda env:base] *",
   "language": "python",
   "name": "conda-base-py"
  },
  "language_info": {
   "codemirror_mode": {
    "name": "ipython",
    "version": 3
   },
   "file_extension": ".py",
   "mimetype": "text/x-python",
   "name": "python",
   "nbconvert_exporter": "python",
   "pygments_lexer": "ipython3",
   "version": "3.12.7"
  }
 },
 "nbformat": 4,
 "nbformat_minor": 5
}
