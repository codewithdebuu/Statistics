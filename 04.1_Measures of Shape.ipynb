{
 "cells": [
  {
   "cell_type": "markdown",
   "id": "c21a7c9f-9a61-441e-96f5-5788dd509e41",
   "metadata": {},
   "source": [
    "# Measures of Shape\n",
    "How much your data is spreaded"
   ]
  },
  {
   "cell_type": "code",
   "execution_count": 4,
   "id": "5f2755e9-e02e-436d-bdc7-adede03461fd",
   "metadata": {},
   "outputs": [
    {
     "data": {
      "text/html": [
       "<div>\n",
       "<style scoped>\n",
       "    .dataframe tbody tr th:only-of-type {\n",
       "        vertical-align: middle;\n",
       "    }\n",
       "\n",
       "    .dataframe tbody tr th {\n",
       "        vertical-align: top;\n",
       "    }\n",
       "\n",
       "    .dataframe thead th {\n",
       "        text-align: right;\n",
       "    }\n",
       "</style>\n",
       "<table border=\"1\" class=\"dataframe\">\n",
       "  <thead>\n",
       "    <tr style=\"text-align: right;\">\n",
       "      <th></th>\n",
       "      <th>PassengerId</th>\n",
       "      <th>Survived</th>\n",
       "      <th>Pclass</th>\n",
       "      <th>Name</th>\n",
       "      <th>Sex</th>\n",
       "      <th>Age</th>\n",
       "      <th>SibSp</th>\n",
       "      <th>Parch</th>\n",
       "      <th>Ticket</th>\n",
       "      <th>Fare</th>\n",
       "      <th>Cabin</th>\n",
       "      <th>Embarked</th>\n",
       "    </tr>\n",
       "  </thead>\n",
       "  <tbody>\n",
       "    <tr>\n",
       "      <th>0</th>\n",
       "      <td>1</td>\n",
       "      <td>0</td>\n",
       "      <td>3</td>\n",
       "      <td>Braund, Mr. Owen Harris</td>\n",
       "      <td>male</td>\n",
       "      <td>22.0</td>\n",
       "      <td>1</td>\n",
       "      <td>0</td>\n",
       "      <td>A/5 21171</td>\n",
       "      <td>7.2500</td>\n",
       "      <td>NaN</td>\n",
       "      <td>S</td>\n",
       "    </tr>\n",
       "    <tr>\n",
       "      <th>1</th>\n",
       "      <td>2</td>\n",
       "      <td>1</td>\n",
       "      <td>1</td>\n",
       "      <td>Cumings, Mrs. John Bradley (Florence Briggs Th...</td>\n",
       "      <td>female</td>\n",
       "      <td>38.0</td>\n",
       "      <td>1</td>\n",
       "      <td>0</td>\n",
       "      <td>PC 17599</td>\n",
       "      <td>71.2833</td>\n",
       "      <td>C85</td>\n",
       "      <td>C</td>\n",
       "    </tr>\n",
       "    <tr>\n",
       "      <th>2</th>\n",
       "      <td>3</td>\n",
       "      <td>1</td>\n",
       "      <td>3</td>\n",
       "      <td>Heikkinen, Miss. Laina</td>\n",
       "      <td>female</td>\n",
       "      <td>26.0</td>\n",
       "      <td>0</td>\n",
       "      <td>0</td>\n",
       "      <td>STON/O2. 3101282</td>\n",
       "      <td>7.9250</td>\n",
       "      <td>NaN</td>\n",
       "      <td>S</td>\n",
       "    </tr>\n",
       "  </tbody>\n",
       "</table>\n",
       "</div>"
      ],
      "text/plain": [
       "   PassengerId  Survived  Pclass  \\\n",
       "0            1         0       3   \n",
       "1            2         1       1   \n",
       "2            3         1       3   \n",
       "\n",
       "                                                Name     Sex   Age  SibSp  \\\n",
       "0                            Braund, Mr. Owen Harris    male  22.0      1   \n",
       "1  Cumings, Mrs. John Bradley (Florence Briggs Th...  female  38.0      1   \n",
       "2                             Heikkinen, Miss. Laina  female  26.0      0   \n",
       "\n",
       "   Parch            Ticket     Fare Cabin Embarked  \n",
       "0      0         A/5 21171   7.2500   NaN        S  \n",
       "1      0          PC 17599  71.2833   C85        C  \n",
       "2      0  STON/O2. 3101282   7.9250   NaN        S  "
      ]
     },
     "execution_count": 4,
     "metadata": {},
     "output_type": "execute_result"
    }
   ],
   "source": [
    "import numpy as np \n",
    "import pandas as pd \n",
    "import matplotlib.pyplot as plt\n",
    "import seaborn as sns\n",
    "\n",
    "\n",
    "df = pd.read_csv(r\"H:\\Programming\\Files\\Statistics\\titanic.csv\")\n",
    "df.head(3)"
   ]
  },
  {
   "cell_type": "markdown",
   "id": "5eaf8fb2-f884-4b58-b3df-bb8978cc2ea5",
   "metadata": {},
   "source": [
    "# df.Skew()\n",
    "\n",
    "skew > 0 ==> Positive skew chart.\n",
    "\n",
    "skew < 0 ==> Negative skew chart.\n",
    "\n",
    "skew = 0 ==> Normal skew chart."
   ]
  },
  {
   "cell_type": "code",
   "execution_count": 6,
   "id": "d0eb416b-e18d-4c30-9fb0-6c7ce823d478",
   "metadata": {},
   "outputs": [
    {
     "data": {
      "text/plain": [
       "0.38910778230082704"
      ]
     },
     "execution_count": 6,
     "metadata": {},
     "output_type": "execute_result"
    }
   ],
   "source": [
    "df[\"Age\"].skew()  # Positive skew chart."
   ]
  },
  {
   "cell_type": "markdown",
   "id": "b2e2b824-befb-4c6c-be55-45d0468fdcfa",
   "metadata": {},
   "source": [
    "# Histplot"
   ]
  },
  {
   "cell_type": "code",
   "execution_count": 26,
   "id": "c567a8bb-f507-473d-ab1a-053ae6668d7f",
   "metadata": {},
   "outputs": [
    {
     "data": {
      "image/png": "[encoded data removed]",
      "text/plain": [
       "<Figure size 640x480 with 1 Axes>"
      ]
     },
     "metadata": {},
     "output_type": "display_data"
    }
   ],
   "source": [
    "sns.histplot(x=\"Age\", data=df,\n",
    "            bins=[i for i in range(0,90,10)])\n",
    "sns.set_style(\"darkgrid\")\n",
    "plt.show()"
   ]
  },
  {
   "cell_type": "markdown",
   "id": "076071c1-a3de-485e-8809-a59c0b9bbb12",
   "metadata": {},
   "source": [
    "# Mean, Median & Mode"
   ]
  },
  {
   "cell_type": "code",
   "execution_count": 28,
   "id": "a609ee4f-275f-453e-b7ab-65000b7ce435",
   "metadata": {},
   "outputs": [
    {
     "data": {
      "text/plain": [
       "(29.69911764705882, 28.0, 24.0)"
      ]
     },
     "execution_count": 28,
     "metadata": {},
     "output_type": "execute_result"
    }
   ],
   "source": [
    "df['Age'].mean(), df['Age'].median(), df['Age'].mode()[0]"
   ]
  },
  {
   "cell_type": "markdown",
   "id": "39b05c55-8b46-41a0-a857-b7fd12d67f4e",
   "metadata": {},
   "source": [
    "# Random"
   ]
  },
  {
   "cell_type": "code",
   "execution_count": 142,
   "id": "6a8dfd61-09b5-4eeb-802c-b79666ba4b15",
   "metadata": {},
   "outputs": [
    {
     "data": {
      "text/plain": [
       "array([ -84.02273368,  -11.80880772,  -26.2472954 ,  147.12079032,\n",
       "        -42.65675568,  162.70111635,  -73.42101771, -209.23500029,\n",
       "       -125.6653262 ,   96.51800019,   76.57668431,   93.4858626 ,\n",
       "         29.57768357,  -15.06592957,  -68.02866502,  108.78126181,\n",
       "          7.88054875, -239.60032469, -121.10482985,  131.31051866,\n",
       "         -9.2753686 ,  -14.67735386,  -46.89271027,   12.33142979,\n",
       "         84.27708618,   46.36668161,  120.9064828 , -263.21232367,\n",
       "        -65.31780107,   17.50699093,  100.61747344,  -13.44922762,\n",
       "        139.17753321,  -89.31736812, -135.09664488,  159.86881108,\n",
       "         17.38227037,  -16.31978004,  -61.14343034,   52.16655372,\n",
       "         -6.56407161,   64.52293339,  122.26854354,   94.17700084,\n",
       "          6.34447498,  115.12398511,   25.45333856,   12.28557947,\n",
       "         22.44973973,  210.85600697, -118.21629822,   -5.28372919,\n",
       "        -58.20603908, -128.3496871 ,  -76.0106738 ,   19.09125404,\n",
       "        -82.8863457 ,   75.83356296,  -70.93704395,  109.38045726,\n",
       "        -37.39227004, -123.61068507,  -14.42744808,   -6.08575216,\n",
       "       -209.50468049,   12.50826665, -187.66108677,   28.59663796,\n",
       "        128.1509856 , -159.43137018,  100.08163373,  -32.31865201,\n",
       "        -38.08137465,  200.21713125,   37.99047245,  -97.24535234,\n",
       "        -75.18775401,  -97.84718583,   86.90929183,  -15.14270654,\n",
       "        -95.05686199,   59.56200415,   88.34549575,  -30.02318075,\n",
       "        131.00459073, -318.80582228, -158.92046811,   58.22531122,\n",
       "         58.83688883,  110.3649692 ,   68.39681342,   38.73926124,\n",
       "         36.37217244,  -47.47995986,   65.40512474,  128.1156434 ,\n",
       "        -11.83810471,   30.60296133,   76.11907641, -154.18815249])"
      ]
     },
     "execution_count": 142,
     "metadata": {},
     "output_type": "execute_result"
    }
   ],
   "source": [
    "# Generate random data from normal distribution\n",
    "rnd_data = np.random.normal(0,100,100)\n",
    "rnd_data"
   ]
  },
  {
   "cell_type": "code",
   "execution_count": 144,
   "id": "10d4b5b0-355d-4b2f-a12f-2f890bb27eed",
   "metadata": {},
   "outputs": [
    {
     "data": {
      "text/html": [
       "<div>\n",
       "<style scoped>\n",
       "    .dataframe tbody tr th:only-of-type {\n",
       "        vertical-align: middle;\n",
       "    }\n",
       "\n",
       "    .dataframe tbody tr th {\n",
       "        vertical-align: top;\n",
       "    }\n",
       "\n",
       "    .dataframe thead th {\n",
       "        text-align: right;\n",
       "    }\n",
       "</style>\n",
       "<table border=\"1\" class=\"dataframe\">\n",
       "  <thead>\n",
       "    <tr style=\"text-align: right;\">\n",
       "      <th></th>\n",
       "      <th>n</th>\n",
       "    </tr>\n",
       "  </thead>\n",
       "  <tbody>\n",
       "    <tr>\n",
       "      <th>0</th>\n",
       "      <td>-84.022734</td>\n",
       "    </tr>\n",
       "    <tr>\n",
       "      <th>1</th>\n",
       "      <td>-11.808808</td>\n",
       "    </tr>\n",
       "    <tr>\n",
       "      <th>2</th>\n",
       "      <td>-26.247295</td>\n",
       "    </tr>\n",
       "    <tr>\n",
       "      <th>3</th>\n",
       "      <td>147.120790</td>\n",
       "    </tr>\n",
       "    <tr>\n",
       "      <th>4</th>\n",
       "      <td>-42.656756</td>\n",
       "    </tr>\n",
       "  </tbody>\n",
       "</table>\n",
       "</div>"
      ],
      "text/plain": [
       "            n\n",
       "0  -84.022734\n",
       "1  -11.808808\n",
       "2  -26.247295\n",
       "3  147.120790\n",
       "4  -42.656756"
      ]
     },
     "execution_count": 144,
     "metadata": {},
     "output_type": "execute_result"
    }
   ],
   "source": [
    "# Create DataFrame with the random data\n",
    "df2 = pd.DataFrame({\"n\": rnd_data})\n",
    "df2.head(5)"
   ]
  },
  {
   "cell_type": "code",
   "execution_count": 146,
   "id": "8142c388-dec1-47e9-9926-a0a1eea028ac",
   "metadata": {},
   "outputs": [
    {
     "data": {
      "text/plain": [
       "-0.515732495128968"
      ]
     },
     "execution_count": 146,
     "metadata": {},
     "output_type": "execute_result"
    }
   ],
   "source": [
    "df2[\"n\"].skew() # Negaive skew chart"
   ]
  },
  {
   "cell_type": "code",
   "execution_count": 148,
   "id": "fb58ed9e-7ecb-4b6c-b5d0-c4629d57249a",
   "metadata": {},
   "outputs": [
    {
     "data": {
      "image/png": "[encoded data removed]",
      "text/plain": [
       "<Figure size 640x480 with 1 Axes>"
      ]
     },
     "metadata": {},
     "output_type": "display_data"
    }
   ],
   "source": [
    "sns.histplot(x=\"n\",data=df2,\n",
    "            bins=[i for i in range(-400,400,100)])\n",
    "plt.show()"
   ]
  },
  {
   "cell_type": "markdown",
   "id": "fe6a98d6-5903-458f-aeaa-4cda641c0b8f",
   "metadata": {},
   "source": [
    "# Mean, Median, Mode"
   ]
  },
  {
   "cell_type": "code",
   "execution_count": 39,
   "id": "5c2e7a98-532a-4e88-a1fa-de90ee161cda",
   "metadata": {},
   "outputs": [
    {
     "data": {
      "text/plain": [
       "(8.617360769359252, 15.63183957365229, -249.61410578179687)"
      ]
     },
     "execution_count": 39,
     "metadata": {},
     "output_type": "execute_result"
    }
   ],
   "source": [
    "df2['n'].mean(), df2['n'].median(), df2['n'].mode()[0]"
   ]
  },
  {
   "cell_type": "code",
   "execution_count": 41,
   "id": "312e34c5-e584-44fa-a332-860c378b7f8f",
   "metadata": {},
   "outputs": [
    {
     "data": {
      "text/html": [
       "<div>\n",
       "<style scoped>\n",
       "    .dataframe tbody tr th:only-of-type {\n",
       "        vertical-align: middle;\n",
       "    }\n",
       "\n",
       "    .dataframe tbody tr th {\n",
       "        vertical-align: top;\n",
       "    }\n",
       "\n",
       "    .dataframe thead th {\n",
       "        text-align: right;\n",
       "    }\n",
       "</style>\n",
       "<table border=\"1\" class=\"dataframe\">\n",
       "  <thead>\n",
       "    <tr style=\"text-align: right;\">\n",
       "      <th></th>\n",
       "      <th>z</th>\n",
       "    </tr>\n",
       "  </thead>\n",
       "  <tbody>\n",
       "    <tr>\n",
       "      <th>0</th>\n",
       "      <td>1</td>\n",
       "    </tr>\n",
       "    <tr>\n",
       "      <th>1</th>\n",
       "      <td>2</td>\n",
       "    </tr>\n",
       "    <tr>\n",
       "      <th>2</th>\n",
       "      <td>2</td>\n",
       "    </tr>\n",
       "    <tr>\n",
       "      <th>3</th>\n",
       "      <td>3</td>\n",
       "    </tr>\n",
       "    <tr>\n",
       "      <th>4</th>\n",
       "      <td>3</td>\n",
       "    </tr>\n",
       "  </tbody>\n",
       "</table>\n",
       "</div>"
      ],
      "text/plain": [
       "   z\n",
       "0  1\n",
       "1  2\n",
       "2  2\n",
       "3  3\n",
       "4  3"
      ]
     },
     "execution_count": 41,
     "metadata": {},
     "output_type": "execute_result"
    }
   ],
   "source": [
    "list_data = [1,2,2, 3,3,3,4,4,4,4,5,5,5,5,5,6,6,6,6,6,6,7,7,7,7,7,8,8,8,8,9,9,9,10,10,11] \n",
    "# Create DataFrame with the random data\n",
    "df3 = pd.DataFrame({\"z\": list_data})\n",
    "df3.head(5)"
   ]
  },
  {
   "cell_type": "code",
   "execution_count": 43,
   "id": "9cd8a406-090e-4997-bee5-0d6f8d01f90c",
   "metadata": {},
   "outputs": [
    {
     "data": {
      "text/plain": [
       "0.0"
      ]
     },
     "execution_count": 43,
     "metadata": {},
     "output_type": "execute_result"
    }
   ],
   "source": [
    "df3['z'].skew() # Normal skew chart"
   ]
  },
  {
   "cell_type": "code",
   "execution_count": 45,
   "id": "54340636-6cbd-4327-8d33-480a69520ea1",
   "metadata": {},
   "outputs": [
    {
     "data": {
      "image/png": "[encoded data removed]",
      "text/plain": [
       "<Figure size 640x480 with 1 Axes>"
      ]
     },
     "metadata": {},
     "output_type": "display_data"
    }
   ],
   "source": [
    "sns.histplot(x=\"z\",data=df3,\n",
    "            bins=[i for i in range(0,13,1)])\n",
    "\n",
    "plt.show()"
   ]
  },
  {
   "cell_type": "markdown",
   "id": "8f5276c4-2a5d-4a85-a22a-d882e783338e",
   "metadata": {},
   "source": [
    "# Mean, Median, Mode"
   ]
  },
  {
   "cell_type": "code",
   "execution_count": 48,
   "id": "b401542d-1b0c-45a1-b223-fc6c0dd3c8c0",
   "metadata": {},
   "outputs": [
    {
     "data": {
      "text/plain": [
       "(6.0,\n",
       " 6.0,\n",
       " 0    6\n",
       " Name: z, dtype: int64)"
      ]
     },
     "execution_count": 48,
     "metadata": {},
     "output_type": "execute_result"
    }
   ],
   "source": [
    "df3['z'].mean(), df3['z'].median(),  df3['z'].mode()"
   ]
  },
  {
   "cell_type": "code",
   "execution_count": null,
   "id": "50389db5-aa51-490e-b708-35cfe0f0558e",
   "metadata": {},
   "outputs": [],
   "source": []
  }
 ],
 "metadata": {
  "kernelspec": {
   "display_name": "Python [conda env:base] *",
   "language": "python",
   "name": "conda-base-py"
  },
  "language_info": {
   "codemirror_mode": {
    "name": "ipython",
    "version": 3
   },
   "file_extension": ".py",
   "mimetype": "text/x-python",
   "name": "python",
   "nbconvert_exporter": "python",
   "pygments_lexer": "ipython3",
   "version": "3.12.7"
  }
 },
 "nbformat": 4,
 "nbformat_minor": 5
}
